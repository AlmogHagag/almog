{
 "cells": [
  {
   "cell_type": "code",
   "execution_count": 3,
   "metadata": {},
   "outputs": [],
   "source": [
    "import cv2\n",
    "import torch\n",
    "import torch.nn as nn\n",
    "import numpy as np\n",
    "import matplotlib.pyplot as plt\n",
    "import torchvision.datasets as datasets\n",
    "import torchvision.transforms as transforms\n",
    "\n",
    "import PIL as Image\n",
    "import torch.autograd as varible"
   ]
  },
  {
   "cell_type": "code",
   "execution_count": 17,
   "metadata": {},
   "outputs": [],
   "source": [
    "mean_image = 0.1\n",
    "std_image = 0.7\n",
    "\n",
    "\n",
    "train_transform = transforms.Compose([transforms.ToTensor(), \n",
    "                                      transforms.Normalize((mean_image, ), (std_image,))])\n",
    "\n",
    "prdict_transform = transforms.Compose([transforms.Resize(28, 28), \n",
    "                                       transforms.ToTensor(),\n",
    "                                       transforms.Normalize((mean_image,), (std_image,)) ])\n",
    "\n",
    "data_tarin = datasets.MNIST(root='./data', \n",
    "                           train=True, \n",
    "                           transform=train_transform, \n",
    "                           download=True)\n",
    "\n",
    "data_loader = datasets.MNIST(root='./data', \n",
    "                           train=False, \n",
    "                           transform=prdict_transform, \n",
    "                           download=True)\n"
   ]
  },
  {
   "cell_type": "code",
   "execution_count": null,
   "metadata": {},
   "outputs": [],
   "source": [
    "train_loader = DataLoader(data_tarin, batch_size=10, shuffle=TRUE)\n",
    "test_loader  = DataLoader(data_test, batch_size=10, shuffle=TRUE)\n"
   ]
  },
  {
   "cell_type": "markdown",
   "metadata": {},
   "source": []
  },
  {
   "cell_type": "code",
   "execution_count": 27,
   "metadata": {},
   "outputs": [
    {
     "name": "stdout",
     "output_type": "stream",
     "text": [
      "<class 'torchvision.datasets.mnist.MNIST'>\n",
      "<class 'tuple'>\n",
      "2\n",
      "<class 'torch.Tensor'>\n",
      "<class 'int'>\n",
      "(28, 28)\n"
     ]
    },
    {
     "data": {
      "image/png": "[encoded data removed]",
      "text/plain": [
       "<Figure size 432x288 with 1 Axes>"
      ]
     },
     "metadata": {
      "needs_background": "light"
     },
     "output_type": "display_data"
    }
   ],
   "source": [
    "print(type(data_tarin))\n",
    "print(type(data_tarin[0]))\n",
    "print(len(data_tarin[0]))\n",
    "print(type(data_tarin[0][0]))\n",
    "print(type(data_tarin[0][1]))\n",
    "\n",
    "image = data_loader[0][0].numpy()\n",
    "image = np.reshape(image,(28,28))\n",
    "print(image.shape)\n",
    "plt.figure()\n",
    "plt.imshow(image)\n",
    "plt.show()"
   ]
  },
  {
   "cell_type": "code",
   "execution_count": null,
   "metadata": {},
   "outputs": [],
   "source": [
    "class detectionMNIST(nn.modules)\n",
    "\n",
    "    def __init__(self, input_image=487, output=10)\n",
    "        super(seld,detectionMNIST) __init__()\n",
    "        self.conv1 = nn.Conv2d(in_channels=1, out_channels=8, kernel_size=3, stride=1, padding=1)\n",
    "        self.BatchNorm2d_1 = nn.BatchNorm2d(num_features=8)\n",
    "        self.MaxPool2d_1 = nn.MaxPool2d(2)\n",
    "        self.conv2 = nn.Conv2d(in_channels=8, out_channels=32, kernel_size=5, stride=1, padding=2)\n",
    "        self.BatchNorm2d_2 = nn.BatchNorm2d(num_features=32)\n",
    "        self.relu = nn.ReLU()\n",
    "        self.MaxPool2d_2 = nn.MaxPool2d(2)\n",
    "        self.fc1 = nn.linear(32*7*7,600)\n",
    "        self.dropout2d = nn.Dropout2d(0.5)\n",
    "        self.fc2 = nn.linear(600, 10)\n",
    "        \n",
    "        \n",
    "   def forwardNet(self, image)     \n",
    "        \n",
    "        output = self.conv1(image)\n",
    "        output= self.BatchNorm2d_1(output) \n",
    "        output =self.relu(output)\n",
    "        output = self.MaxPool2d_1(output)\n",
    "        \n",
    "        output = self.conv2(output)\n",
    "        output = self.BatchNorm2d_2(output)\n",
    "        output = self.relu(output)\n",
    "        output = self.MaxPool2d_2(output)\n",
    "        \n",
    "        out = out.view(-1,1568)\n",
    "        \n",
    "        output = self.fc1(output)\n",
    "        output = self.relu(output)\n",
    "        output = self.dropout2d(output)\n",
    "        output = self.fc2(output)\n",
    "        "
   ]
  },
  {
   "cell_type": "code",
   "execution_count": null,
   "metadata": {},
   "outputs": [],
   "source": [
    "net_model = detectionMNIST()\n",
    "torch.optim.Adam(net_model, lr=0.001)"
   ]
  }
 ],
 "metadata": {
  "kernelspec": {
   "display_name": "Python 3",
   "language": "python",
   "name": "python3"
  },
  "language_info": {
   "codemirror_mode": {
    "name": "ipython",
    "version": 3
   },
   "file_extension": ".py",
   "mimetype": "text/x-python",
   "name": "python",
   "nbconvert_exporter": "python",
   "pygments_lexer": "ipython3",
   "version": "3.5.2"
  }
 },
 "nbformat": 4,
 "nbformat_minor": 4
}
